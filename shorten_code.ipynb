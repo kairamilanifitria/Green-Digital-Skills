{
  "nbformat": 4,
  "nbformat_minor": 0,
  "metadata": {
    "colab": {
      "provenance": []
    },
    "kernelspec": {
      "name": "python3",
      "display_name": "Python 3"
    },
    "language_info": {
      "name": "python"
    }
  },
  "cells": [
    {
      "cell_type": "code",
      "execution_count": null,
      "metadata": {
        "id": "ki0W0PJBFQOi"
      },
      "outputs": [],
      "source": [
        "import matplotlib.pyplot as plt\n",
        "\n",
        "# Sample data\n",
        "categories = ['Category A', 'Category B', 'Category C', 'Category D']\n",
        "values = [20, 35, 30, 15]\n",
        "\n",
        "# Create bar plot\n",
        "plt.bar(categories, values, color='skyblue')\n",
        "plt.show()"
      ]
    },
    {
      "cell_type": "code",
      "source": [
        "import plotly.graph_objects as go\n",
        "\n",
        "# Sample data\n",
        "categories = ['Category A', 'Category B', 'Category C', 'Category D']\n",
        "values = [20, 35, 30, 15]\n",
        "\n",
        "# Create bar plot\n",
        "fig = go.Figure(go.Bar(x=categories, y=values))\n",
        "fig.show()\n"
      ],
      "metadata": {
        "id": "-ng3ssKJGLDN"
      },
      "execution_count": null,
      "outputs": []
    },
    {
      "cell_type": "code",
      "source": [
        "from bokeh.plotting import figure, show\n",
        "\n",
        "# Sample data\n",
        "categories = ['Category A', 'Category B', 'Category C', 'Category D']\n",
        "values = [20, 35, 30, 15]\n",
        "\n",
        "# Create bar plot\n",
        "p = figure(x_range=categories, title=\"Bar Chart using Bokeh\")\n",
        "p.vbar(x=categories, top=values, width=0.9)\n",
        "show(p)"
      ],
      "metadata": {
        "id": "cgPvqc2OGM-B"
      },
      "execution_count": 3,
      "outputs": []
    }
  ]
}