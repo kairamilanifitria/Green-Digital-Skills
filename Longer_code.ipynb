{
  "nbformat": 4,
  "nbformat_minor": 0,
  "metadata": {
    "colab": {
      "provenance": []
    },
    "kernelspec": {
      "name": "python3",
      "display_name": "Python 3"
    },
    "language_info": {
      "name": "python"
    }
  },
  "cells": [
    {
      "cell_type": "code",
      "execution_count": null,
      "metadata": {
        "id": "MNqILKT8FLhX"
      },
      "outputs": [],
      "source": [
        "import matplotlib.pyplot as plt\n",
        "\n",
        "# Sample data\n",
        "categories = ['Category A', 'Category B', 'Category C', 'Category D']\n",
        "values = [20, 35, 30, 15]\n",
        "\n",
        "# Create a new figure with specific size\n",
        "plt.figure(figsize=(10, 8))\n",
        "\n",
        "# Plotting the bar chart\n",
        "plt.bar(categories, values, color='skyblue')\n",
        "\n",
        "# Adding labels to the axes\n",
        "plt.xlabel('Categories', fontsize=14, fontweight='bold')\n",
        "plt.ylabel('Values', fontsize=14, fontweight='bold')\n",
        "\n",
        "# Adding a title to the plot\n",
        "plt.title('Bar Chart using Matplotlib', fontsize=16, fontweight='bold')\n",
        "\n",
        "# Adding grid lines\n",
        "plt.grid(True, linestyle='--', linewidth=0.5, color='gray')\n",
        "\n",
        "# Adding annotations for each bar\n",
        "for i, value in enumerate(values):\n",
        "    plt.text(i, value + 0.5, str(value), ha='center', va='bottom', fontsize=12)\n",
        "\n",
        "# Adjusting the layout\n",
        "plt.tight_layout()\n",
        "\n",
        "# Display the plot\n",
        "plt.show()\n"
      ]
    },
    {
      "cell_type": "code",
      "source": [
        "import plotly.graph_objects as go\n",
        "\n",
        "# Sample data\n",
        "categories = ['Category A', 'Category B', 'Category C', 'Category D']\n",
        "values = [20, 35, 30, 15]\n",
        "\n",
        "# Create bar plot\n",
        "fig = go.Figure(data=[go.Bar(x=categories, y=values, marker=dict(color='lightblue'))])\n",
        "\n",
        "# Update layout\n",
        "fig.update_layout(\n",
        "    title_text='Bar Chart using Plotly',\n",
        "    xaxis=dict(title='Categories', tickfont=dict(size=14), tickangle=-45),\n",
        "    yaxis=dict(title='Values', tickfont=dict(size=14)),\n",
        "    font=dict(family='Arial', size=16),\n",
        "    width=800,\n",
        "    height=600,\n",
        "    plot_bgcolor='rgba(0,0,0,0)',\n",
        "    showlegend=False\n",
        ")\n",
        "\n",
        "# Add annotations for each bar\n",
        "for category, value in zip(categories, values):\n",
        "    fig.add_annotation(\n",
        "        x=category,\n",
        "        y=value,\n",
        "        text=str(value),\n",
        "        font=dict(size=12, color='black'),\n",
        "        showarrow=False,\n",
        "        xanchor='center',\n",
        "        yanchor='bottom',\n",
        "        yshift=10\n",
        "    )\n",
        "\n",
        "# Show plot\n",
        "fig.show()\n"
      ],
      "metadata": {
        "id": "FzBLNPMcFWxF"
      },
      "execution_count": null,
      "outputs": []
    },
    {
      "cell_type": "code",
      "source": [
        "from bokeh.plotting import figure, show\n",
        "from bokeh.io import output_notebook\n",
        "\n",
        "# Import necessary modules\n",
        "\n",
        "# Importing figure and show functions from the Bokeh library\n",
        "from bokeh.plotting import figure, show\n",
        "\n",
        "# Importing the output_notebook function to display Bokeh plots in Jupyter Notebook\n",
        "from bokeh.io import output_notebook\n",
        "\n",
        "# Sample data\n",
        "categories = ['Category A', 'Category B', 'Category C', 'Category D']\n",
        "values = [20, 35, 30, 15]\n",
        "\n",
        "# Output to notebook\n",
        "output_notebook()\n",
        "\n",
        "# Create a new figure object\n",
        "p = figure()\n",
        "\n",
        "# Customize the figure\n",
        "p.title.text = \"Bar Chart using Bokeh\"\n",
        "p.title.text_font_size = \"16pt\"\n",
        "p.title.align = \"center\"\n",
        "\n",
        "# Add grid lines\n",
        "p.xgrid.grid_line_color = None\n",
        "\n",
        "# Add a bar glyph to the figure\n",
        "p.vbar(x=categories, top=values, width=0.9)\n",
        "\n",
        "\n",
        "# Show the plot\n",
        "show(p)\n"
      ],
      "metadata": {
        "id": "rBZocivVFZ37"
      },
      "execution_count": null,
      "outputs": []
    }
  ]
}